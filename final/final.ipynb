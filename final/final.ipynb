{
 "cells": [
  {
   "cell_type": "markdown",
   "metadata": {},
   "source": [
    "# Final Project - Vineeth Munigati"
   ]
  },
  {
   "cell_type": "markdown",
   "metadata": {},
   "source": [
    "### The purpose of this final project is to find association or relationships between uninsured rate per state, the average cost of healthcare per capita per state, and average life expectancy of the population of each state in the US using the latest available data from various sources."
   ]
  },
  {
   "cell_type": "markdown",
   "metadata": {},
   "source": [
    "#### Sources for the data used in this project:\n",
    "\n",
    "##### Insured population rate: https://www.kff.org/other/state-indicator/health-insurance-coverage-of-the-total-population-cps/?currentTimeframe=0&sortModel=%7B%22colId%22:%22Location%22,%22sort%22:%22asc%22%7D\n",
    "\n",
    "##### Average cost of healthcare per capita per US state: https://worldpopulationreview.com/state-rankings/health-care-costs-by-state\n",
    "\n",
    "##### Average life expectancy per state: https://www.kff.org/other/state-indicator/life-expectancy/?currentTimeframe=0&sortModel=%7B%22colId%22:%22Location%22,%22sort%22:%22asc%22%7D"
   ]
  },
  {
   "cell_type": "markdown",
   "metadata": {},
   "source": [
    "***"
   ]
  },
  {
   "cell_type": "markdown",
   "metadata": {},
   "source": [
    "#### Importing relevant packages for this analysis"
   ]
  },
  {
   "cell_type": "code",
   "execution_count": 1,
   "metadata": {},
   "outputs": [],
   "source": [
    "import pandas as pd\n",
    "import matplotlib.pyplot as plt\n",
    "import seaborn as sns"
   ]
  },
  {
   "cell_type": "markdown",
   "metadata": {},
   "source": [
    "#### Importing two csv files containing insurance rate data for each state in the US using pd.read_csv function"
   ]
  },
  {
   "cell_type": "code",
   "execution_count": 2,
   "metadata": {},
   "outputs": [
    {
     "data": {
      "text/html": [
       "<div>\n",
       "<style scoped>\n",
       "    .dataframe tbody tr th:only-of-type {\n",
       "        vertical-align: middle;\n",
       "    }\n",
       "\n",
       "    .dataframe tbody tr th {\n",
       "        vertical-align: top;\n",
       "    }\n",
       "\n",
       "    .dataframe thead th {\n",
       "        text-align: right;\n",
       "    }\n",
       "</style>\n",
       "<table border=\"1\" class=\"dataframe\">\n",
       "  <thead>\n",
       "    <tr style=\"text-align: right;\">\n",
       "      <th></th>\n",
       "      <th>Location</th>\n",
       "      <th>Employer</th>\n",
       "      <th>Non-Group</th>\n",
       "      <th>Medicaid</th>\n",
       "      <th>Medicare</th>\n",
       "      <th>Military</th>\n",
       "      <th>Uninsured</th>\n",
       "    </tr>\n",
       "  </thead>\n",
       "  <tbody>\n",
       "    <tr>\n",
       "      <th>0</th>\n",
       "      <td>Alabama</td>\n",
       "      <td>48.80%</td>\n",
       "      <td>2.80%</td>\n",
       "      <td>18.50%</td>\n",
       "      <td>17.40%</td>\n",
       "      <td>NaN</td>\n",
       "      <td>8.90%</td>\n",
       "    </tr>\n",
       "    <tr>\n",
       "      <th>1</th>\n",
       "      <td>Alaska</td>\n",
       "      <td>39.90%</td>\n",
       "      <td>3.10%</td>\n",
       "      <td>22.00%</td>\n",
       "      <td>12.80%</td>\n",
       "      <td>9.60%</td>\n",
       "      <td>12.60%</td>\n",
       "    </tr>\n",
       "    <tr>\n",
       "      <th>2</th>\n",
       "      <td>Arizona</td>\n",
       "      <td>44.90%</td>\n",
       "      <td>4.10%</td>\n",
       "      <td>20.50%</td>\n",
       "      <td>16.80%</td>\n",
       "      <td>2.90%</td>\n",
       "      <td>10.80%</td>\n",
       "    </tr>\n",
       "    <tr>\n",
       "      <th>3</th>\n",
       "      <td>Arkansas</td>\n",
       "      <td>40.80%</td>\n",
       "      <td>7.80%</td>\n",
       "      <td>23.10%</td>\n",
       "      <td>18.00%</td>\n",
       "      <td>1.80%</td>\n",
       "      <td>8.50%</td>\n",
       "    </tr>\n",
       "    <tr>\n",
       "      <th>4</th>\n",
       "      <td>California</td>\n",
       "      <td>48.50%</td>\n",
       "      <td>6.50%</td>\n",
       "      <td>23.40%</td>\n",
       "      <td>12.50%</td>\n",
       "      <td>1.80%</td>\n",
       "      <td>7.30%</td>\n",
       "    </tr>\n",
       "  </tbody>\n",
       "</table>\n",
       "</div>"
      ],
      "text/plain": [
       "     Location Employer Non-Group Medicaid Medicare Military Uninsured\n",
       "0     Alabama   48.80%     2.80%   18.50%   17.40%      NaN     8.90%\n",
       "1      Alaska   39.90%     3.10%   22.00%   12.80%    9.60%    12.60%\n",
       "2     Arizona   44.90%     4.10%   20.50%   16.80%    2.90%    10.80%\n",
       "3    Arkansas   40.80%     7.80%   23.10%   18.00%    1.80%     8.50%\n",
       "4  California   48.50%     6.50%   23.40%   12.50%    1.80%     7.30%"
      ]
     },
     "execution_count": 2,
     "metadata": {},
     "output_type": "execute_result"
    }
   ],
   "source": [
    "insure_df1 = pd.read_csv('state_insure_rate_1.csv')\n",
    "insure_df1.head() #.head() function outputs first 5 rows of the data frame."
   ]
  },
  {
   "cell_type": "code",
   "execution_count": 3,
   "metadata": {},
   "outputs": [
    {
     "data": {
      "text/html": [
       "<div>\n",
       "<style scoped>\n",
       "    .dataframe tbody tr th:only-of-type {\n",
       "        vertical-align: middle;\n",
       "    }\n",
       "\n",
       "    .dataframe tbody tr th {\n",
       "        vertical-align: top;\n",
       "    }\n",
       "\n",
       "    .dataframe thead th {\n",
       "        text-align: right;\n",
       "    }\n",
       "</style>\n",
       "<table border=\"1\" class=\"dataframe\">\n",
       "  <thead>\n",
       "    <tr style=\"text-align: right;\">\n",
       "      <th></th>\n",
       "      <th>Location</th>\n",
       "      <th>Employer</th>\n",
       "      <th>Non-Group</th>\n",
       "      <th>Medicaid</th>\n",
       "      <th>Medicare</th>\n",
       "      <th>Military</th>\n",
       "      <th>Uninsured</th>\n",
       "    </tr>\n",
       "  </thead>\n",
       "  <tbody>\n",
       "    <tr>\n",
       "      <th>0</th>\n",
       "      <td>Montana</td>\n",
       "      <td>44.60%</td>\n",
       "      <td>6.00%</td>\n",
       "      <td>19.40%</td>\n",
       "      <td>19.20%</td>\n",
       "      <td>3.20%</td>\n",
       "      <td>7.60%</td>\n",
       "    </tr>\n",
       "    <tr>\n",
       "      <th>1</th>\n",
       "      <td>Nebraska</td>\n",
       "      <td>56.10%</td>\n",
       "      <td>7.50%</td>\n",
       "      <td>11.50%</td>\n",
       "      <td>15.00%</td>\n",
       "      <td>2.50%</td>\n",
       "      <td>7.30%</td>\n",
       "    </tr>\n",
       "    <tr>\n",
       "      <th>2</th>\n",
       "      <td>Nevada</td>\n",
       "      <td>47.80%</td>\n",
       "      <td>4.50%</td>\n",
       "      <td>19.10%</td>\n",
       "      <td>15.40%</td>\n",
       "      <td>2.90%</td>\n",
       "      <td>10.20%</td>\n",
       "    </tr>\n",
       "    <tr>\n",
       "      <th>3</th>\n",
       "      <td>New Hampshire</td>\n",
       "      <td>56.70%</td>\n",
       "      <td>4.90%</td>\n",
       "      <td>10.80%</td>\n",
       "      <td>21.70%</td>\n",
       "      <td>1.70%</td>\n",
       "      <td>4.20%</td>\n",
       "    </tr>\n",
       "    <tr>\n",
       "      <th>4</th>\n",
       "      <td>New Jersey</td>\n",
       "      <td>58.10%</td>\n",
       "      <td>4.60%</td>\n",
       "      <td>15.50%</td>\n",
       "      <td>14.60%</td>\n",
       "      <td>0.90%</td>\n",
       "      <td>6.40%</td>\n",
       "    </tr>\n",
       "  </tbody>\n",
       "</table>\n",
       "</div>"
      ],
      "text/plain": [
       "        Location Employer Non-Group Medicaid Medicare Military Uninsured\n",
       "0        Montana   44.60%     6.00%   19.40%   19.20%    3.20%     7.60%\n",
       "1       Nebraska   56.10%     7.50%   11.50%   15.00%    2.50%     7.30%\n",
       "2         Nevada   47.80%     4.50%   19.10%   15.40%    2.90%    10.20%\n",
       "3  New Hampshire   56.70%     4.90%   10.80%   21.70%    1.70%     4.20%\n",
       "4     New Jersey   58.10%     4.60%   15.50%   14.60%    0.90%     6.40%"
      ]
     },
     "execution_count": 3,
     "metadata": {},
     "output_type": "execute_result"
    }
   ],
   "source": [
    "insure_df2 = pd.read_csv('state_insure_rate_2.csv')\n",
    "insure_df2.head()"
   ]
  },
  {
   "cell_type": "markdown",
   "metadata": {},
   "source": [
    "#### Merging two csv files of insurance population data frames using pd.concat function "
   ]
  },
  {
   "cell_type": "code",
   "execution_count": 4,
   "metadata": {},
   "outputs": [
    {
     "data": {
      "text/html": [
       "<div>\n",
       "<style scoped>\n",
       "    .dataframe tbody tr th:only-of-type {\n",
       "        vertical-align: middle;\n",
       "    }\n",
       "\n",
       "    .dataframe tbody tr th {\n",
       "        vertical-align: top;\n",
       "    }\n",
       "\n",
       "    .dataframe thead th {\n",
       "        text-align: right;\n",
       "    }\n",
       "</style>\n",
       "<table border=\"1\" class=\"dataframe\">\n",
       "  <thead>\n",
       "    <tr style=\"text-align: right;\">\n",
       "      <th></th>\n",
       "      <th>Location</th>\n",
       "      <th>Employer</th>\n",
       "      <th>Non-Group</th>\n",
       "      <th>Medicaid</th>\n",
       "      <th>Medicare</th>\n",
       "      <th>Military</th>\n",
       "      <th>Uninsured</th>\n",
       "    </tr>\n",
       "  </thead>\n",
       "  <tbody>\n",
       "    <tr>\n",
       "      <th>0</th>\n",
       "      <td>Alabama</td>\n",
       "      <td>48.80%</td>\n",
       "      <td>2.80%</td>\n",
       "      <td>18.50%</td>\n",
       "      <td>17.40%</td>\n",
       "      <td>NaN</td>\n",
       "      <td>8.90%</td>\n",
       "    </tr>\n",
       "    <tr>\n",
       "      <th>1</th>\n",
       "      <td>Alaska</td>\n",
       "      <td>39.90%</td>\n",
       "      <td>3.10%</td>\n",
       "      <td>22.00%</td>\n",
       "      <td>12.80%</td>\n",
       "      <td>9.60%</td>\n",
       "      <td>12.60%</td>\n",
       "    </tr>\n",
       "    <tr>\n",
       "      <th>2</th>\n",
       "      <td>Arizona</td>\n",
       "      <td>44.90%</td>\n",
       "      <td>4.10%</td>\n",
       "      <td>20.50%</td>\n",
       "      <td>16.80%</td>\n",
       "      <td>2.90%</td>\n",
       "      <td>10.80%</td>\n",
       "    </tr>\n",
       "    <tr>\n",
       "      <th>3</th>\n",
       "      <td>Arkansas</td>\n",
       "      <td>40.80%</td>\n",
       "      <td>7.80%</td>\n",
       "      <td>23.10%</td>\n",
       "      <td>18.00%</td>\n",
       "      <td>1.80%</td>\n",
       "      <td>8.50%</td>\n",
       "    </tr>\n",
       "    <tr>\n",
       "      <th>4</th>\n",
       "      <td>California</td>\n",
       "      <td>48.50%</td>\n",
       "      <td>6.50%</td>\n",
       "      <td>23.40%</td>\n",
       "      <td>12.50%</td>\n",
       "      <td>1.80%</td>\n",
       "      <td>7.30%</td>\n",
       "    </tr>\n",
       "    <tr>\n",
       "      <th>5</th>\n",
       "      <td>Colorado</td>\n",
       "      <td>50.20%</td>\n",
       "      <td>5.80%</td>\n",
       "      <td>16.60%</td>\n",
       "      <td>12.90%</td>\n",
       "      <td>4.20%</td>\n",
       "      <td>10.40%</td>\n",
       "    </tr>\n",
       "    <tr>\n",
       "      <th>6</th>\n",
       "      <td>Connecticut</td>\n",
       "      <td>49.70%</td>\n",
       "      <td>5.20%</td>\n",
       "      <td>23.60%</td>\n",
       "      <td>16.20%</td>\n",
       "      <td>NaN</td>\n",
       "      <td>4.80%</td>\n",
       "    </tr>\n",
       "    <tr>\n",
       "      <th>7</th>\n",
       "      <td>Delaware</td>\n",
       "      <td>50.10%</td>\n",
       "      <td>2.70%</td>\n",
       "      <td>18.10%</td>\n",
       "      <td>18.90%</td>\n",
       "      <td>2.00%</td>\n",
       "      <td>8.40%</td>\n",
       "    </tr>\n",
       "    <tr>\n",
       "      <th>8</th>\n",
       "      <td>Florida</td>\n",
       "      <td>39.50%</td>\n",
       "      <td>10.40%</td>\n",
       "      <td>15.00%</td>\n",
       "      <td>19.70%</td>\n",
       "      <td>3.00%</td>\n",
       "      <td>12.30%</td>\n",
       "    </tr>\n",
       "    <tr>\n",
       "      <th>9</th>\n",
       "      <td>Georgia</td>\n",
       "      <td>46.90%</td>\n",
       "      <td>5.90%</td>\n",
       "      <td>15.90%</td>\n",
       "      <td>13.60%</td>\n",
       "      <td>3.20%</td>\n",
       "      <td>14.50%</td>\n",
       "    </tr>\n",
       "    <tr>\n",
       "      <th>10</th>\n",
       "      <td>Hawaii</td>\n",
       "      <td>51.00%</td>\n",
       "      <td>3.00%</td>\n",
       "      <td>16.70%</td>\n",
       "      <td>17.90%</td>\n",
       "      <td>7.70%</td>\n",
       "      <td>3.70%</td>\n",
       "    </tr>\n",
       "    <tr>\n",
       "      <th>11</th>\n",
       "      <td>Idaho</td>\n",
       "      <td>49.70%</td>\n",
       "      <td>6.30%</td>\n",
       "      <td>16.10%</td>\n",
       "      <td>13.80%</td>\n",
       "      <td>1.90%</td>\n",
       "      <td>12.20%</td>\n",
       "    </tr>\n",
       "    <tr>\n",
       "      <th>12</th>\n",
       "      <td>Illinois</td>\n",
       "      <td>56.90%</td>\n",
       "      <td>5.20%</td>\n",
       "      <td>15.20%</td>\n",
       "      <td>15.20%</td>\n",
       "      <td>NaN</td>\n",
       "      <td>6.50%</td>\n",
       "    </tr>\n",
       "    <tr>\n",
       "      <th>13</th>\n",
       "      <td>Indiana</td>\n",
       "      <td>56.60%</td>\n",
       "      <td>4.50%</td>\n",
       "      <td>16.80%</td>\n",
       "      <td>14.60%</td>\n",
       "      <td>NaN</td>\n",
       "      <td>6.10%</td>\n",
       "    </tr>\n",
       "    <tr>\n",
       "      <th>14</th>\n",
       "      <td>Iowa</td>\n",
       "      <td>54.60%</td>\n",
       "      <td>6.50%</td>\n",
       "      <td>17.50%</td>\n",
       "      <td>13.70%</td>\n",
       "      <td>1.60%</td>\n",
       "      <td>6.10%</td>\n",
       "    </tr>\n",
       "    <tr>\n",
       "      <th>15</th>\n",
       "      <td>Kansas</td>\n",
       "      <td>55.90%</td>\n",
       "      <td>4.60%</td>\n",
       "      <td>10.90%</td>\n",
       "      <td>15.30%</td>\n",
       "      <td>4.00%</td>\n",
       "      <td>9.20%</td>\n",
       "    </tr>\n",
       "    <tr>\n",
       "      <th>16</th>\n",
       "      <td>Kentucky</td>\n",
       "      <td>46.90%</td>\n",
       "      <td>3.60%</td>\n",
       "      <td>23.50%</td>\n",
       "      <td>16.70%</td>\n",
       "      <td>NaN</td>\n",
       "      <td>6.90%</td>\n",
       "    </tr>\n",
       "    <tr>\n",
       "      <th>17</th>\n",
       "      <td>Louisiana</td>\n",
       "      <td>43.10%</td>\n",
       "      <td>3.10%</td>\n",
       "      <td>27.50%</td>\n",
       "      <td>15.60%</td>\n",
       "      <td>NaN</td>\n",
       "      <td>7.70%</td>\n",
       "    </tr>\n",
       "    <tr>\n",
       "      <th>18</th>\n",
       "      <td>Maine</td>\n",
       "      <td>45.80%</td>\n",
       "      <td>6.60%</td>\n",
       "      <td>17.90%</td>\n",
       "      <td>20.40%</td>\n",
       "      <td>4.20%</td>\n",
       "      <td>5.10%</td>\n",
       "    </tr>\n",
       "    <tr>\n",
       "      <th>19</th>\n",
       "      <td>Maryland</td>\n",
       "      <td>57.80%</td>\n",
       "      <td>5.50%</td>\n",
       "      <td>14.20%</td>\n",
       "      <td>15.60%</td>\n",
       "      <td>2.60%</td>\n",
       "      <td>4.30%</td>\n",
       "    </tr>\n",
       "    <tr>\n",
       "      <th>20</th>\n",
       "      <td>Massachusetts</td>\n",
       "      <td>54.80%</td>\n",
       "      <td>4.40%</td>\n",
       "      <td>21.20%</td>\n",
       "      <td>16.60%</td>\n",
       "      <td>0.60%</td>\n",
       "      <td>2.40%</td>\n",
       "    </tr>\n",
       "    <tr>\n",
       "      <th>21</th>\n",
       "      <td>Michigan</td>\n",
       "      <td>52.60%</td>\n",
       "      <td>4.10%</td>\n",
       "      <td>19.40%</td>\n",
       "      <td>18.80%</td>\n",
       "      <td>1.10%</td>\n",
       "      <td>3.90%</td>\n",
       "    </tr>\n",
       "    <tr>\n",
       "      <th>22</th>\n",
       "      <td>Minnesota</td>\n",
       "      <td>60.40%</td>\n",
       "      <td>5.20%</td>\n",
       "      <td>12.00%</td>\n",
       "      <td>15.80%</td>\n",
       "      <td>1.30%</td>\n",
       "      <td>5.30%</td>\n",
       "    </tr>\n",
       "    <tr>\n",
       "      <th>23</th>\n",
       "      <td>Mississippi</td>\n",
       "      <td>46.00%</td>\n",
       "      <td>4.90%</td>\n",
       "      <td>18.60%</td>\n",
       "      <td>16.30%</td>\n",
       "      <td>2.30%</td>\n",
       "      <td>11.90%</td>\n",
       "    </tr>\n",
       "    <tr>\n",
       "      <th>24</th>\n",
       "      <td>Missouri</td>\n",
       "      <td>54.30%</td>\n",
       "      <td>4.80%</td>\n",
       "      <td>11.80%</td>\n",
       "      <td>17.30%</td>\n",
       "      <td>2.20%</td>\n",
       "      <td>9.70%</td>\n",
       "    </tr>\n",
       "    <tr>\n",
       "      <th>0</th>\n",
       "      <td>Montana</td>\n",
       "      <td>44.60%</td>\n",
       "      <td>6.00%</td>\n",
       "      <td>19.40%</td>\n",
       "      <td>19.20%</td>\n",
       "      <td>3.20%</td>\n",
       "      <td>7.60%</td>\n",
       "    </tr>\n",
       "    <tr>\n",
       "      <th>1</th>\n",
       "      <td>Nebraska</td>\n",
       "      <td>56.10%</td>\n",
       "      <td>7.50%</td>\n",
       "      <td>11.50%</td>\n",
       "      <td>15.00%</td>\n",
       "      <td>2.50%</td>\n",
       "      <td>7.30%</td>\n",
       "    </tr>\n",
       "    <tr>\n",
       "      <th>2</th>\n",
       "      <td>Nevada</td>\n",
       "      <td>47.80%</td>\n",
       "      <td>4.50%</td>\n",
       "      <td>19.10%</td>\n",
       "      <td>15.40%</td>\n",
       "      <td>2.90%</td>\n",
       "      <td>10.20%</td>\n",
       "    </tr>\n",
       "    <tr>\n",
       "      <th>3</th>\n",
       "      <td>New Hampshire</td>\n",
       "      <td>56.70%</td>\n",
       "      <td>4.90%</td>\n",
       "      <td>10.80%</td>\n",
       "      <td>21.70%</td>\n",
       "      <td>1.70%</td>\n",
       "      <td>4.20%</td>\n",
       "    </tr>\n",
       "    <tr>\n",
       "      <th>4</th>\n",
       "      <td>New Jersey</td>\n",
       "      <td>58.10%</td>\n",
       "      <td>4.60%</td>\n",
       "      <td>15.50%</td>\n",
       "      <td>14.60%</td>\n",
       "      <td>0.90%</td>\n",
       "      <td>6.40%</td>\n",
       "    </tr>\n",
       "    <tr>\n",
       "      <th>5</th>\n",
       "      <td>New Mexico</td>\n",
       "      <td>35.70%</td>\n",
       "      <td>2.80%</td>\n",
       "      <td>28.20%</td>\n",
       "      <td>18.70%</td>\n",
       "      <td>2.80%</td>\n",
       "      <td>11.80%</td>\n",
       "    </tr>\n",
       "    <tr>\n",
       "      <th>6</th>\n",
       "      <td>New York</td>\n",
       "      <td>49.50%</td>\n",
       "      <td>5.20%</td>\n",
       "      <td>24.10%</td>\n",
       "      <td>16.00%</td>\n",
       "      <td>NaN</td>\n",
       "      <td>4.60%</td>\n",
       "    </tr>\n",
       "    <tr>\n",
       "      <th>7</th>\n",
       "      <td>North Carolina</td>\n",
       "      <td>47.30%</td>\n",
       "      <td>5.20%</td>\n",
       "      <td>16.50%</td>\n",
       "      <td>16.40%</td>\n",
       "      <td>4.60%</td>\n",
       "      <td>10.00%</td>\n",
       "    </tr>\n",
       "    <tr>\n",
       "      <th>8</th>\n",
       "      <td>North Dakota</td>\n",
       "      <td>57.70%</td>\n",
       "      <td>6.90%</td>\n",
       "      <td>10.40%</td>\n",
       "      <td>16.70%</td>\n",
       "      <td>2.10%</td>\n",
       "      <td>6.20%</td>\n",
       "    </tr>\n",
       "    <tr>\n",
       "      <th>9</th>\n",
       "      <td>Ohio</td>\n",
       "      <td>49.20%</td>\n",
       "      <td>5.10%</td>\n",
       "      <td>19.70%</td>\n",
       "      <td>18.40%</td>\n",
       "      <td>1.30%</td>\n",
       "      <td>6.20%</td>\n",
       "    </tr>\n",
       "    <tr>\n",
       "      <th>10</th>\n",
       "      <td>Oklahoma</td>\n",
       "      <td>42.60%</td>\n",
       "      <td>4.60%</td>\n",
       "      <td>19.30%</td>\n",
       "      <td>17.30%</td>\n",
       "      <td>1.70%</td>\n",
       "      <td>14.50%</td>\n",
       "    </tr>\n",
       "    <tr>\n",
       "      <th>11</th>\n",
       "      <td>Oregon</td>\n",
       "      <td>52.40%</td>\n",
       "      <td>6.60%</td>\n",
       "      <td>17.40%</td>\n",
       "      <td>18.00%</td>\n",
       "      <td>1.00%</td>\n",
       "      <td>4.70%</td>\n",
       "    </tr>\n",
       "    <tr>\n",
       "      <th>12</th>\n",
       "      <td>Pennsylvania</td>\n",
       "      <td>56.70%</td>\n",
       "      <td>4.10%</td>\n",
       "      <td>16.10%</td>\n",
       "      <td>17.10%</td>\n",
       "      <td>NaN</td>\n",
       "      <td>5.50%</td>\n",
       "    </tr>\n",
       "    <tr>\n",
       "      <th>13</th>\n",
       "      <td>Rhode Island</td>\n",
       "      <td>54.70%</td>\n",
       "      <td>5.20%</td>\n",
       "      <td>18.70%</td>\n",
       "      <td>16.10%</td>\n",
       "      <td>NaN</td>\n",
       "      <td>3.10%</td>\n",
       "    </tr>\n",
       "    <tr>\n",
       "      <th>14</th>\n",
       "      <td>South Carolina</td>\n",
       "      <td>47.70%</td>\n",
       "      <td>4.70%</td>\n",
       "      <td>15.70%</td>\n",
       "      <td>18.50%</td>\n",
       "      <td>5.00%</td>\n",
       "      <td>8.50%</td>\n",
       "    </tr>\n",
       "    <tr>\n",
       "      <th>15</th>\n",
       "      <td>South Dakota</td>\n",
       "      <td>56.10%</td>\n",
       "      <td>6.50%</td>\n",
       "      <td>9.40%</td>\n",
       "      <td>16.10%</td>\n",
       "      <td>2.90%</td>\n",
       "      <td>9.00%</td>\n",
       "    </tr>\n",
       "    <tr>\n",
       "      <th>16</th>\n",
       "      <td>Tennessee</td>\n",
       "      <td>45.50%</td>\n",
       "      <td>4.70%</td>\n",
       "      <td>17.60%</td>\n",
       "      <td>17.10%</td>\n",
       "      <td>NaN</td>\n",
       "      <td>11.40%</td>\n",
       "    </tr>\n",
       "    <tr>\n",
       "      <th>17</th>\n",
       "      <td>Texas</td>\n",
       "      <td>48.10%</td>\n",
       "      <td>5.10%</td>\n",
       "      <td>14.00%</td>\n",
       "      <td>12.80%</td>\n",
       "      <td>2.40%</td>\n",
       "      <td>17.50%</td>\n",
       "    </tr>\n",
       "    <tr>\n",
       "      <th>18</th>\n",
       "      <td>Utah</td>\n",
       "      <td>61.10%</td>\n",
       "      <td>5.60%</td>\n",
       "      <td>10.70%</td>\n",
       "      <td>10.70%</td>\n",
       "      <td>2.20%</td>\n",
       "      <td>9.70%</td>\n",
       "    </tr>\n",
       "    <tr>\n",
       "      <th>19</th>\n",
       "      <td>Vermont</td>\n",
       "      <td>50.20%</td>\n",
       "      <td>6.70%</td>\n",
       "      <td>19.40%</td>\n",
       "      <td>20.40%</td>\n",
       "      <td>NaN</td>\n",
       "      <td>2.60%</td>\n",
       "    </tr>\n",
       "    <tr>\n",
       "      <th>20</th>\n",
       "      <td>Virginia</td>\n",
       "      <td>56.70%</td>\n",
       "      <td>5.20%</td>\n",
       "      <td>10.70%</td>\n",
       "      <td>14.30%</td>\n",
       "      <td>7.60%</td>\n",
       "      <td>5.50%</td>\n",
       "    </tr>\n",
       "    <tr>\n",
       "      <th>21</th>\n",
       "      <td>Washington</td>\n",
       "      <td>56.70%</td>\n",
       "      <td>4.20%</td>\n",
       "      <td>16.40%</td>\n",
       "      <td>13.00%</td>\n",
       "      <td>1.90%</td>\n",
       "      <td>7.80%</td>\n",
       "    </tr>\n",
       "    <tr>\n",
       "      <th>22</th>\n",
       "      <td>West Virginia</td>\n",
       "      <td>47.60%</td>\n",
       "      <td>3.50%</td>\n",
       "      <td>21.50%</td>\n",
       "      <td>20.00%</td>\n",
       "      <td>2.40%</td>\n",
       "      <td>5.10%</td>\n",
       "    </tr>\n",
       "    <tr>\n",
       "      <th>23</th>\n",
       "      <td>Wisconsin</td>\n",
       "      <td>61.70%</td>\n",
       "      <td>4.40%</td>\n",
       "      <td>12.20%</td>\n",
       "      <td>15.40%</td>\n",
       "      <td>1.40%</td>\n",
       "      <td>4.80%</td>\n",
       "    </tr>\n",
       "    <tr>\n",
       "      <th>24</th>\n",
       "      <td>Wyoming</td>\n",
       "      <td>49.40%</td>\n",
       "      <td>6.40%</td>\n",
       "      <td>13.10%</td>\n",
       "      <td>18.80%</td>\n",
       "      <td>2.80%</td>\n",
       "      <td>9.60%</td>\n",
       "    </tr>\n",
       "  </tbody>\n",
       "</table>\n",
       "</div>"
      ],
      "text/plain": [
       "          Location Employer Non-Group Medicaid Medicare Military Uninsured\n",
       "0          Alabama   48.80%     2.80%   18.50%   17.40%      NaN     8.90%\n",
       "1           Alaska   39.90%     3.10%   22.00%   12.80%    9.60%    12.60%\n",
       "2          Arizona   44.90%     4.10%   20.50%   16.80%    2.90%    10.80%\n",
       "3         Arkansas   40.80%     7.80%   23.10%   18.00%    1.80%     8.50%\n",
       "4       California   48.50%     6.50%   23.40%   12.50%    1.80%     7.30%\n",
       "5         Colorado   50.20%     5.80%   16.60%   12.90%    4.20%    10.40%\n",
       "6      Connecticut   49.70%     5.20%   23.60%   16.20%      NaN     4.80%\n",
       "7         Delaware   50.10%     2.70%   18.10%   18.90%    2.00%     8.40%\n",
       "8          Florida   39.50%    10.40%   15.00%   19.70%    3.00%    12.30%\n",
       "9          Georgia   46.90%     5.90%   15.90%   13.60%    3.20%    14.50%\n",
       "10          Hawaii   51.00%     3.00%   16.70%   17.90%    7.70%     3.70%\n",
       "11           Idaho   49.70%     6.30%   16.10%   13.80%    1.90%    12.20%\n",
       "12        Illinois   56.90%     5.20%   15.20%   15.20%      NaN     6.50%\n",
       "13         Indiana   56.60%     4.50%   16.80%   14.60%      NaN     6.10%\n",
       "14            Iowa   54.60%     6.50%   17.50%   13.70%    1.60%     6.10%\n",
       "15          Kansas   55.90%     4.60%   10.90%   15.30%    4.00%     9.20%\n",
       "16        Kentucky   46.90%     3.60%   23.50%   16.70%      NaN     6.90%\n",
       "17       Louisiana   43.10%     3.10%   27.50%   15.60%      NaN     7.70%\n",
       "18           Maine   45.80%     6.60%   17.90%   20.40%    4.20%     5.10%\n",
       "19        Maryland   57.80%     5.50%   14.20%   15.60%    2.60%     4.30%\n",
       "20   Massachusetts   54.80%     4.40%   21.20%   16.60%    0.60%     2.40%\n",
       "21        Michigan   52.60%     4.10%   19.40%   18.80%    1.10%     3.90%\n",
       "22       Minnesota   60.40%     5.20%   12.00%   15.80%    1.30%     5.30%\n",
       "23     Mississippi   46.00%     4.90%   18.60%   16.30%    2.30%    11.90%\n",
       "24        Missouri   54.30%     4.80%   11.80%   17.30%    2.20%     9.70%\n",
       "0          Montana   44.60%     6.00%   19.40%   19.20%    3.20%     7.60%\n",
       "1         Nebraska   56.10%     7.50%   11.50%   15.00%    2.50%     7.30%\n",
       "2           Nevada   47.80%     4.50%   19.10%   15.40%    2.90%    10.20%\n",
       "3    New Hampshire   56.70%     4.90%   10.80%   21.70%    1.70%     4.20%\n",
       "4       New Jersey   58.10%     4.60%   15.50%   14.60%    0.90%     6.40%\n",
       "5       New Mexico   35.70%     2.80%   28.20%   18.70%    2.80%    11.80%\n",
       "6         New York   49.50%     5.20%   24.10%   16.00%      NaN     4.60%\n",
       "7   North Carolina   47.30%     5.20%   16.50%   16.40%    4.60%    10.00%\n",
       "8     North Dakota   57.70%     6.90%   10.40%   16.70%    2.10%     6.20%\n",
       "9             Ohio   49.20%     5.10%   19.70%   18.40%    1.30%     6.20%\n",
       "10        Oklahoma   42.60%     4.60%   19.30%   17.30%    1.70%    14.50%\n",
       "11          Oregon   52.40%     6.60%   17.40%   18.00%    1.00%     4.70%\n",
       "12    Pennsylvania   56.70%     4.10%   16.10%   17.10%      NaN     5.50%\n",
       "13    Rhode Island   54.70%     5.20%   18.70%   16.10%      NaN     3.10%\n",
       "14  South Carolina   47.70%     4.70%   15.70%   18.50%    5.00%     8.50%\n",
       "15    South Dakota   56.10%     6.50%    9.40%   16.10%    2.90%     9.00%\n",
       "16       Tennessee   45.50%     4.70%   17.60%   17.10%      NaN    11.40%\n",
       "17           Texas   48.10%     5.10%   14.00%   12.80%    2.40%    17.50%\n",
       "18            Utah   61.10%     5.60%   10.70%   10.70%    2.20%     9.70%\n",
       "19         Vermont   50.20%     6.70%   19.40%   20.40%      NaN     2.60%\n",
       "20        Virginia   56.70%     5.20%   10.70%   14.30%    7.60%     5.50%\n",
       "21      Washington   56.70%     4.20%   16.40%   13.00%    1.90%     7.80%\n",
       "22   West Virginia   47.60%     3.50%   21.50%   20.00%    2.40%     5.10%\n",
       "23       Wisconsin   61.70%     4.40%   12.20%   15.40%    1.40%     4.80%\n",
       "24         Wyoming   49.40%     6.40%   13.10%   18.80%    2.80%     9.60%"
      ]
     },
     "execution_count": 4,
     "metadata": {},
     "output_type": "execute_result"
    }
   ],
   "source": [
    "insure_rate = pd.concat([insure_df1, insure_df2])\n",
    "insure_rate #to see if two data frames have merged properly"
   ]
  },
  {
   "cell_type": "markdown",
   "metadata": {},
   "source": [
    "#### See what data type each column is using .dtypes function and change it to into float data type"
   ]
  },
  {
   "cell_type": "code",
   "execution_count": 5,
   "metadata": {},
   "outputs": [
    {
     "data": {
      "text/plain": [
       "Location     object\n",
       "Employer     object\n",
       "Non-Group    object\n",
       "Medicaid     object\n",
       "Medicare     object\n",
       "Military     object\n",
       "Uninsured    object\n",
       "dtype: object"
      ]
     },
     "execution_count": 5,
     "metadata": {},
     "output_type": "execute_result"
    }
   ],
   "source": [
    "insure_rate.dtypes"
   ]
  },
  {
   "cell_type": "markdown",
   "metadata": {},
   "source": [
    "#### Changing each column above from object data type to float using .astype function as well as stripping the '%' symbol using .rstrip function for proper analysis"
   ]
  },
  {
   "cell_type": "code",
   "execution_count": 6,
   "metadata": {},
   "outputs": [],
   "source": [
    "insure_rate['Employer'] = insure_rate['Employer'].str.rstrip(\"%\").astype(float)/100"
   ]
  },
  {
   "cell_type": "code",
   "execution_count": 7,
   "metadata": {},
   "outputs": [],
   "source": [
    "insure_rate['Non-Group'] = insure_rate['Non-Group'].str.rstrip(\"%\").astype(float)/100"
   ]
  },
  {
   "cell_type": "code",
   "execution_count": 8,
   "metadata": {},
   "outputs": [],
   "source": [
    "insure_rate['Medicaid'] = insure_rate['Medicaid'].str.rstrip(\"%\").astype(float)/100"
   ]
  },
  {
   "cell_type": "code",
   "execution_count": 9,
   "metadata": {},
   "outputs": [],
   "source": [
    "insure_rate['Medicare'] = insure_rate['Medicare'].str.rstrip(\"%\").astype(float)/100"
   ]
  },
  {
   "cell_type": "code",
   "execution_count": 10,
   "metadata": {},
   "outputs": [],
   "source": [
    "insure_rate['Military'] = insure_rate['Military'].str.rstrip(\"%\").astype(float)/100"
   ]
  },
  {
   "cell_type": "code",
   "execution_count": 11,
   "metadata": {},
   "outputs": [],
   "source": [
    "insure_rate['Uninsured'] = insure_rate['Uninsured'].str.rstrip(\"%\").astype(float)/100"
   ]
  },
  {
   "cell_type": "markdown",
   "metadata": {},
   "source": [
    "#### Checking again to see if all columns are now float data type using .dtypes function"
   ]
  },
  {
   "cell_type": "code",
   "execution_count": 12,
   "metadata": {},
   "outputs": [
    {
     "data": {
      "text/plain": [
       "Location      object\n",
       "Employer     float64\n",
       "Non-Group    float64\n",
       "Medicaid     float64\n",
       "Medicare     float64\n",
       "Military     float64\n",
       "Uninsured    float64\n",
       "dtype: object"
      ]
     },
     "execution_count": 12,
     "metadata": {},
     "output_type": "execute_result"
    }
   ],
   "source": [
    "insure_rate.dtypes"
   ]
  },
  {
   "cell_type": "code",
   "execution_count": 13,
   "metadata": {},
   "outputs": [
    {
     "data": {
      "text/html": [
       "<div>\n",
       "<style scoped>\n",
       "    .dataframe tbody tr th:only-of-type {\n",
       "        vertical-align: middle;\n",
       "    }\n",
       "\n",
       "    .dataframe tbody tr th {\n",
       "        vertical-align: top;\n",
       "    }\n",
       "\n",
       "    .dataframe thead th {\n",
       "        text-align: right;\n",
       "    }\n",
       "</style>\n",
       "<table border=\"1\" class=\"dataframe\">\n",
       "  <thead>\n",
       "    <tr style=\"text-align: right;\">\n",
       "      <th></th>\n",
       "      <th>Location</th>\n",
       "      <th>Employer</th>\n",
       "      <th>Non-Group</th>\n",
       "      <th>Medicaid</th>\n",
       "      <th>Medicare</th>\n",
       "      <th>Military</th>\n",
       "      <th>Uninsured</th>\n",
       "    </tr>\n",
       "  </thead>\n",
       "  <tbody>\n",
       "    <tr>\n",
       "      <th>0</th>\n",
       "      <td>Alabama</td>\n",
       "      <td>0.488</td>\n",
       "      <td>0.028</td>\n",
       "      <td>0.185</td>\n",
       "      <td>0.174</td>\n",
       "      <td>NaN</td>\n",
       "      <td>0.089</td>\n",
       "    </tr>\n",
       "    <tr>\n",
       "      <th>1</th>\n",
       "      <td>Alaska</td>\n",
       "      <td>0.399</td>\n",
       "      <td>0.031</td>\n",
       "      <td>0.220</td>\n",
       "      <td>0.128</td>\n",
       "      <td>0.096</td>\n",
       "      <td>0.126</td>\n",
       "    </tr>\n",
       "    <tr>\n",
       "      <th>2</th>\n",
       "      <td>Arizona</td>\n",
       "      <td>0.449</td>\n",
       "      <td>0.041</td>\n",
       "      <td>0.205</td>\n",
       "      <td>0.168</td>\n",
       "      <td>0.029</td>\n",
       "      <td>0.108</td>\n",
       "    </tr>\n",
       "    <tr>\n",
       "      <th>3</th>\n",
       "      <td>Arkansas</td>\n",
       "      <td>0.408</td>\n",
       "      <td>0.078</td>\n",
       "      <td>0.231</td>\n",
       "      <td>0.180</td>\n",
       "      <td>0.018</td>\n",
       "      <td>0.085</td>\n",
       "    </tr>\n",
       "    <tr>\n",
       "      <th>4</th>\n",
       "      <td>California</td>\n",
       "      <td>0.485</td>\n",
       "      <td>0.065</td>\n",
       "      <td>0.234</td>\n",
       "      <td>0.125</td>\n",
       "      <td>0.018</td>\n",
       "      <td>0.073</td>\n",
       "    </tr>\n",
       "  </tbody>\n",
       "</table>\n",
       "</div>"
      ],
      "text/plain": [
       "     Location  Employer  Non-Group  Medicaid  Medicare  Military  Uninsured\n",
       "0     Alabama     0.488      0.028     0.185     0.174       NaN      0.089\n",
       "1      Alaska     0.399      0.031     0.220     0.128     0.096      0.126\n",
       "2     Arizona     0.449      0.041     0.205     0.168     0.029      0.108\n",
       "3    Arkansas     0.408      0.078     0.231     0.180     0.018      0.085\n",
       "4  California     0.485      0.065     0.234     0.125     0.018      0.073"
      ]
     },
     "execution_count": 13,
     "metadata": {},
     "output_type": "execute_result"
    }
   ],
   "source": [
    "insure_rate.head() #to see if all columns except 'Location' has turned into float data type."
   ]
  },
  {
   "cell_type": "markdown",
   "metadata": {},
   "source": [
    "#### Creating a bar graph to make it easier to see which state has the highest and lowest uninsured rate using .plot.bar function"
   ]
  },
  {
   "cell_type": "code",
   "execution_count": 14,
   "metadata": {},
   "outputs": [
    {
     "data": {
      "image/png": "[encoded data removed]",
      "text/plain": [
       "<Figure size 432x288 with 1 Axes>"
      ]
     },
     "metadata": {
      "needs_background": "light"
     },
     "output_type": "display_data"
    }
   ],
   "source": [
    "insure_rate.plot.bar(x=\"Location\", y=\"Uninsured\", rot=90, title=\"Uninsured rate per US state\")\n",
    "plt.rcParams[\"figure.figsize\"] = (20,8) #plt.rcParams is used to modify the graph size for easier observation"
   ]
  },
  {
   "cell_type": "markdown",
   "metadata": {},
   "source": [
    "##### Based on the bar graph, Texas seems to have the highest uninsurance rate. However, it is a little challenging to see if Vermont or Massachusetts has the lowest uninsured rates based on the bar graph"
   ]
  },
  {
   "cell_type": "markdown",
   "metadata": {},
   "source": [
    "#### Using .loc and .idmax functions, we can find out which state has the lowest uninsured rate."
   ]
  },
  {
   "cell_type": "code",
   "execution_count": 15,
   "metadata": {},
   "outputs": [
    {
     "data": {
      "text/html": [
       "<div>\n",
       "<style scoped>\n",
       "    .dataframe tbody tr th:only-of-type {\n",
       "        vertical-align: middle;\n",
       "    }\n",
       "\n",
       "    .dataframe tbody tr th {\n",
       "        vertical-align: top;\n",
       "    }\n",
       "\n",
       "    .dataframe thead th {\n",
       "        text-align: right;\n",
       "    }\n",
       "</style>\n",
       "<table border=\"1\" class=\"dataframe\">\n",
       "  <thead>\n",
       "    <tr style=\"text-align: right;\">\n",
       "      <th></th>\n",
       "      <th>Location</th>\n",
       "      <th>Employer</th>\n",
       "      <th>Non-Group</th>\n",
       "      <th>Medicaid</th>\n",
       "      <th>Medicare</th>\n",
       "      <th>Military</th>\n",
       "      <th>Uninsured</th>\n",
       "    </tr>\n",
       "  </thead>\n",
       "  <tbody>\n",
       "    <tr>\n",
       "      <th>20</th>\n",
       "      <td>Massachusetts</td>\n",
       "      <td>0.548</td>\n",
       "      <td>0.044</td>\n",
       "      <td>0.212</td>\n",
       "      <td>0.166</td>\n",
       "      <td>0.006</td>\n",
       "      <td>0.024</td>\n",
       "    </tr>\n",
       "    <tr>\n",
       "      <th>20</th>\n",
       "      <td>Virginia</td>\n",
       "      <td>0.567</td>\n",
       "      <td>0.052</td>\n",
       "      <td>0.107</td>\n",
       "      <td>0.143</td>\n",
       "      <td>0.076</td>\n",
       "      <td>0.055</td>\n",
       "    </tr>\n",
       "  </tbody>\n",
       "</table>\n",
       "</div>"
      ],
      "text/plain": [
       "         Location  Employer  Non-Group  Medicaid  Medicare  Military  \\\n",
       "20  Massachusetts     0.548      0.044     0.212     0.166     0.006   \n",
       "20       Virginia     0.567      0.052     0.107     0.143     0.076   \n",
       "\n",
       "    Uninsured  \n",
       "20      0.024  \n",
       "20      0.055  "
      ]
     },
     "execution_count": 15,
     "metadata": {},
     "output_type": "execute_result"
    }
   ],
   "source": [
    "insure_rate.loc[insure_rate['Uninsured'].idxmin()]"
   ]
  },
  {
   "cell_type": "markdown",
   "metadata": {},
   "source": [
    "##### We can now see that the state with the lowest uninsured rate is Massachusetts with an uninsured population rate of 2.4%"
   ]
  },
  {
   "cell_type": "markdown",
   "metadata": {},
   "source": [
    "#### Plotting histogram of uninsured rate to see its frequency using .hist function"
   ]
  },
  {
   "cell_type": "code",
   "execution_count": 16,
   "metadata": {},
   "outputs": [
    {
     "data": {
      "image/png": "[encoded data removed]",
      "text/plain": [
       "<Figure size 1440x576 with 1 Axes>"
      ]
     },
     "metadata": {
      "needs_background": "light"
     },
     "output_type": "display_data"
    }
   ],
   "source": [
    "insure_rate.hist('Uninsured')\n",
    "plt.rcParams[\"figure.figsize\"] = (11,8)"
   ]
  },
  {
   "cell_type": "markdown",
   "metadata": {},
   "source": [
    "##### Many states seem to have an uninsured population rate between 4% and 7%"
   ]
  },
  {
   "cell_type": "markdown",
   "metadata": {},
   "source": [
    "#### Using .aggregate function to see basic statistics (mean, median, min, max, and standard deviation) for each column"
   ]
  },
  {
   "cell_type": "code",
   "execution_count": 17,
   "metadata": {},
   "outputs": [
    {
     "data": {
      "text/html": [
       "<div>\n",
       "<style scoped>\n",
       "    .dataframe tbody tr th:only-of-type {\n",
       "        vertical-align: middle;\n",
       "    }\n",
       "\n",
       "    .dataframe tbody tr th {\n",
       "        vertical-align: top;\n",
       "    }\n",
       "\n",
       "    .dataframe thead th {\n",
       "        text-align: right;\n",
       "    }\n",
       "</style>\n",
       "<table border=\"1\" class=\"dataframe\">\n",
       "  <thead>\n",
       "    <tr style=\"text-align: right;\">\n",
       "      <th></th>\n",
       "      <th>Employer</th>\n",
       "      <th>Non-Group</th>\n",
       "      <th>Medicaid</th>\n",
       "      <th>Medicare</th>\n",
       "      <th>Military</th>\n",
       "      <th>Uninsured</th>\n",
       "    </tr>\n",
       "  </thead>\n",
       "  <tbody>\n",
       "    <tr>\n",
       "      <th>mean</th>\n",
       "      <td>0.507120</td>\n",
       "      <td>0.051360</td>\n",
       "      <td>0.172680</td>\n",
       "      <td>0.164020</td>\n",
       "      <td>0.028538</td>\n",
       "      <td>0.078660</td>\n",
       "    </tr>\n",
       "    <tr>\n",
       "      <th>median</th>\n",
       "      <td>0.499000</td>\n",
       "      <td>0.051000</td>\n",
       "      <td>0.171000</td>\n",
       "      <td>0.163500</td>\n",
       "      <td>0.024000</td>\n",
       "      <td>0.074500</td>\n",
       "    </tr>\n",
       "    <tr>\n",
       "      <th>min</th>\n",
       "      <td>0.357000</td>\n",
       "      <td>0.027000</td>\n",
       "      <td>0.094000</td>\n",
       "      <td>0.107000</td>\n",
       "      <td>0.006000</td>\n",
       "      <td>0.024000</td>\n",
       "    </tr>\n",
       "    <tr>\n",
       "      <th>max</th>\n",
       "      <td>0.617000</td>\n",
       "      <td>0.104000</td>\n",
       "      <td>0.282000</td>\n",
       "      <td>0.217000</td>\n",
       "      <td>0.096000</td>\n",
       "      <td>0.175000</td>\n",
       "    </tr>\n",
       "    <tr>\n",
       "      <th>std</th>\n",
       "      <td>0.060118</td>\n",
       "      <td>0.014507</td>\n",
       "      <td>0.044608</td>\n",
       "      <td>0.023623</td>\n",
       "      <td>0.019062</td>\n",
       "      <td>0.033671</td>\n",
       "    </tr>\n",
       "  </tbody>\n",
       "</table>\n",
       "</div>"
      ],
      "text/plain": [
       "        Employer  Non-Group  Medicaid  Medicare  Military  Uninsured\n",
       "mean    0.507120   0.051360  0.172680  0.164020  0.028538   0.078660\n",
       "median  0.499000   0.051000  0.171000  0.163500  0.024000   0.074500\n",
       "min     0.357000   0.027000  0.094000  0.107000  0.006000   0.024000\n",
       "max     0.617000   0.104000  0.282000  0.217000  0.096000   0.175000\n",
       "std     0.060118   0.014507  0.044608  0.023623  0.019062   0.033671"
      ]
     },
     "execution_count": 17,
     "metadata": {},
     "output_type": "execute_result"
    }
   ],
   "source": [
    "insure_rate[['Employer', 'Non-Group','Medicaid', 'Medicare', 'Military', 'Uninsured' ]].aggregate(['mean', 'median', 'min', 'max', 'std'])"
   ]
  },
  {
   "cell_type": "markdown",
   "metadata": {},
   "source": [
    "#### Importing json file contaning healthcare spending per capita for each US state using pd.read_json function"
   ]
  },
  {
   "cell_type": "code",
   "execution_count": 18,
   "metadata": {},
   "outputs": [
    {
     "data": {
      "text/html": [
       "<div>\n",
       "<style scoped>\n",
       "    .dataframe tbody tr th:only-of-type {\n",
       "        vertical-align: middle;\n",
       "    }\n",
       "\n",
       "    .dataframe tbody tr th {\n",
       "        vertical-align: top;\n",
       "    }\n",
       "\n",
       "    .dataframe thead th {\n",
       "        text-align: right;\n",
       "    }\n",
       "</style>\n",
       "<table border=\"1\" class=\"dataframe\">\n",
       "  <thead>\n",
       "    <tr style=\"text-align: right;\">\n",
       "      <th></th>\n",
       "      <th>State</th>\n",
       "      <th>spentPerCapita</th>\n",
       "    </tr>\n",
       "  </thead>\n",
       "  <tbody>\n",
       "    <tr>\n",
       "      <th>0</th>\n",
       "      <td>Alabama</td>\n",
       "      <td>6452.0</td>\n",
       "    </tr>\n",
       "    <tr>\n",
       "      <th>1</th>\n",
       "      <td>Alaska</td>\n",
       "      <td>7408.0</td>\n",
       "    </tr>\n",
       "    <tr>\n",
       "      <th>2</th>\n",
       "      <td>Arizona</td>\n",
       "      <td>7549.0</td>\n",
       "    </tr>\n",
       "    <tr>\n",
       "      <th>3</th>\n",
       "      <td>Arkansas</td>\n",
       "      <td>6804.0</td>\n",
       "    </tr>\n",
       "    <tr>\n",
       "      <th>4</th>\n",
       "      <td>California</td>\n",
       "      <td>9859.0</td>\n",
       "    </tr>\n",
       "  </tbody>\n",
       "</table>\n",
       "</div>"
      ],
      "text/plain": [
       "        State  spentPerCapita\n",
       "0     Alabama          6452.0\n",
       "1      Alaska          7408.0\n",
       "2     Arizona          7549.0\n",
       "3    Arkansas          6804.0\n",
       "4  California          9859.0"
      ]
     },
     "execution_count": 18,
     "metadata": {},
     "output_type": "execute_result"
    }
   ],
   "source": [
    "healthcost = pd.read_json('health_spending.json')\n",
    "healthcost.head()\n",
    "#Data on Wisconsin and Wyoming was unavailable in this json file"
   ]
  },
  {
   "cell_type": "markdown",
   "metadata": {},
   "source": [
    "#### Making sure the data type for this data frame is float by using .dtypes function"
   ]
  },
  {
   "cell_type": "code",
   "execution_count": 19,
   "metadata": {},
   "outputs": [
    {
     "data": {
      "text/plain": [
       "State              object\n",
       "spentPerCapita    float64\n",
       "dtype: object"
      ]
     },
     "execution_count": 19,
     "metadata": {},
     "output_type": "execute_result"
    }
   ],
   "source": [
    "healthcost.dtypes"
   ]
  },
  {
   "cell_type": "markdown",
   "metadata": {},
   "source": [
    "#### Creating a bar graph to make it easier to see which state has the highest and lowest healthcare spending per capita per US state using .plot.bar function"
   ]
  },
  {
   "cell_type": "code",
   "execution_count": 20,
   "metadata": {},
   "outputs": [
    {
     "data": {
      "image/png": "[encoded data removed]",
      "text/plain": [
       "<Figure size 792x576 with 1 Axes>"
      ]
     },
     "metadata": {
      "needs_background": "light"
     },
     "output_type": "display_data"
    }
   ],
   "source": [
    "healthcost.plot.bar(x='State', y='spentPerCapita', rot=90, width=0.4, title='Health care spending per US state per capita')\n",
    "plt.rcParams[\"figure.figsize\"] = (20,8)"
   ]
  },
  {
   "cell_type": "markdown",
   "metadata": {},
   "source": [
    "##### Based on the bar graph, Maine seems to have the highest healthcare spending per capita and Tennessee having the lowest healthcare spending per capita in the US"
   ]
  },
  {
   "cell_type": "markdown",
   "metadata": {},
   "source": [
    "#### Plotting histogram of healthcare spending per capita to see its frequency using .hist function"
   ]
  },
  {
   "cell_type": "code",
   "execution_count": 21,
   "metadata": {},
   "outputs": [
    {
     "data": {
      "image/png": "[encoded data removed]",
      "text/plain": [
       "<Figure size 1440x576 with 1 Axes>"
      ]
     },
     "metadata": {
      "needs_background": "light"
     },
     "output_type": "display_data"
    }
   ],
   "source": [
    "healthcost.plot.hist()\n",
    "plt.rcParams[\"figure.figsize\"] = (11,8)"
   ]
  },
  {
   "cell_type": "markdown",
   "metadata": {},
   "source": [
    "##### Many states seems to have a healthcare spending per capita of around $8000"
   ]
  },
  {
   "cell_type": "markdown",
   "metadata": {},
   "source": [
    "#### Using .aggregate function to see basic statistics (mean, median, min, max, and standard deviation) for 'spentPerCapita' column"
   ]
  },
  {
   "cell_type": "code",
   "execution_count": 22,
   "metadata": {},
   "outputs": [
    {
     "data": {
      "text/html": [
       "<div>\n",
       "<style scoped>\n",
       "    .dataframe tbody tr th:only-of-type {\n",
       "        vertical-align: middle;\n",
       "    }\n",
       "\n",
       "    .dataframe tbody tr th {\n",
       "        vertical-align: top;\n",
       "    }\n",
       "\n",
       "    .dataframe thead th {\n",
       "        text-align: right;\n",
       "    }\n",
       "</style>\n",
       "<table border=\"1\" class=\"dataframe\">\n",
       "  <thead>\n",
       "    <tr style=\"text-align: right;\">\n",
       "      <th></th>\n",
       "      <th>spentPerCapita</th>\n",
       "    </tr>\n",
       "  </thead>\n",
       "  <tbody>\n",
       "    <tr>\n",
       "      <th>mean</th>\n",
       "      <td>8221.895833</td>\n",
       "    </tr>\n",
       "    <tr>\n",
       "      <th>median</th>\n",
       "      <td>8091.500000</td>\n",
       "    </tr>\n",
       "    <tr>\n",
       "      <th>min</th>\n",
       "      <td>5982.000000</td>\n",
       "    </tr>\n",
       "    <tr>\n",
       "      <th>max</th>\n",
       "      <td>10559.000000</td>\n",
       "    </tr>\n",
       "    <tr>\n",
       "      <th>std</th>\n",
       "      <td>1099.074238</td>\n",
       "    </tr>\n",
       "  </tbody>\n",
       "</table>\n",
       "</div>"
      ],
      "text/plain": [
       "        spentPerCapita\n",
       "mean       8221.895833\n",
       "median     8091.500000\n",
       "min        5982.000000\n",
       "max       10559.000000\n",
       "std        1099.074238"
      ]
     },
     "execution_count": 22,
     "metadata": {},
     "output_type": "execute_result"
    }
   ],
   "source": [
    "healthcost[['spentPerCapita' ]].aggregate(['mean', 'median', 'min', 'max', 'std'])"
   ]
  },
  {
   "cell_type": "markdown",
   "metadata": {},
   "source": [
    "#### Converting the json file to csv file to make merging with other data frames easier using .to_csv function"
   ]
  },
  {
   "cell_type": "code",
   "execution_count": 23,
   "metadata": {},
   "outputs": [],
   "source": [
    "healthcost.to_csv(\"health_spending.csv\",index=False)"
   ]
  },
  {
   "cell_type": "code",
   "execution_count": 24,
   "metadata": {},
   "outputs": [
    {
     "data": {
      "text/html": [
       "<div>\n",
       "<style scoped>\n",
       "    .dataframe tbody tr th:only-of-type {\n",
       "        vertical-align: middle;\n",
       "    }\n",
       "\n",
       "    .dataframe tbody tr th {\n",
       "        vertical-align: top;\n",
       "    }\n",
       "\n",
       "    .dataframe thead th {\n",
       "        text-align: right;\n",
       "    }\n",
       "</style>\n",
       "<table border=\"1\" class=\"dataframe\">\n",
       "  <thead>\n",
       "    <tr style=\"text-align: right;\">\n",
       "      <th></th>\n",
       "      <th>State</th>\n",
       "      <th>spentPerCapita</th>\n",
       "    </tr>\n",
       "  </thead>\n",
       "  <tbody>\n",
       "    <tr>\n",
       "      <th>0</th>\n",
       "      <td>Alabama</td>\n",
       "      <td>6452.0</td>\n",
       "    </tr>\n",
       "    <tr>\n",
       "      <th>1</th>\n",
       "      <td>Alaska</td>\n",
       "      <td>7408.0</td>\n",
       "    </tr>\n",
       "    <tr>\n",
       "      <th>2</th>\n",
       "      <td>Arizona</td>\n",
       "      <td>7549.0</td>\n",
       "    </tr>\n",
       "    <tr>\n",
       "      <th>3</th>\n",
       "      <td>Arkansas</td>\n",
       "      <td>6804.0</td>\n",
       "    </tr>\n",
       "    <tr>\n",
       "      <th>4</th>\n",
       "      <td>California</td>\n",
       "      <td>9859.0</td>\n",
       "    </tr>\n",
       "  </tbody>\n",
       "</table>\n",
       "</div>"
      ],
      "text/plain": [
       "        State  spentPerCapita\n",
       "0     Alabama          6452.0\n",
       "1      Alaska          7408.0\n",
       "2     Arizona          7549.0\n",
       "3    Arkansas          6804.0\n",
       "4  California          9859.0"
      ]
     },
     "execution_count": 24,
     "metadata": {},
     "output_type": "execute_result"
    }
   ],
   "source": [
    "new_healthcost = pd.read_csv('health_spending.csv')\n",
    "new_healthcost.head()"
   ]
  },
  {
   "cell_type": "markdown",
   "metadata": {},
   "source": [
    "#### Renaming 'State' column to 'Location' to match with other data frames"
   ]
  },
  {
   "cell_type": "code",
   "execution_count": 25,
   "metadata": {},
   "outputs": [],
   "source": [
    "new_healthcost.rename(columns = {'State':'Location'}, inplace = True)"
   ]
  },
  {
   "cell_type": "markdown",
   "metadata": {},
   "source": [
    "#### Importing a csv file containing life expectancy data for each state in the US using pd.read_csv function"
   ]
  },
  {
   "cell_type": "code",
   "execution_count": 26,
   "metadata": {},
   "outputs": [
    {
     "data": {
      "text/html": [
       "<div>\n",
       "<style scoped>\n",
       "    .dataframe tbody tr th:only-of-type {\n",
       "        vertical-align: middle;\n",
       "    }\n",
       "\n",
       "    .dataframe tbody tr th {\n",
       "        vertical-align: top;\n",
       "    }\n",
       "\n",
       "    .dataframe thead th {\n",
       "        text-align: right;\n",
       "    }\n",
       "</style>\n",
       "<table border=\"1\" class=\"dataframe\">\n",
       "  <thead>\n",
       "    <tr style=\"text-align: right;\">\n",
       "      <th></th>\n",
       "      <th>Location</th>\n",
       "      <th>Life Expectancy at Birth (years)</th>\n",
       "    </tr>\n",
       "  </thead>\n",
       "  <tbody>\n",
       "    <tr>\n",
       "      <th>0</th>\n",
       "      <td>Alabama</td>\n",
       "      <td>75.2</td>\n",
       "    </tr>\n",
       "    <tr>\n",
       "      <th>1</th>\n",
       "      <td>Alaska</td>\n",
       "      <td>77.7</td>\n",
       "    </tr>\n",
       "    <tr>\n",
       "      <th>2</th>\n",
       "      <td>Arizona</td>\n",
       "      <td>78.8</td>\n",
       "    </tr>\n",
       "    <tr>\n",
       "      <th>3</th>\n",
       "      <td>Arkansas</td>\n",
       "      <td>75.7</td>\n",
       "    </tr>\n",
       "    <tr>\n",
       "      <th>4</th>\n",
       "      <td>California</td>\n",
       "      <td>80.9</td>\n",
       "    </tr>\n",
       "  </tbody>\n",
       "</table>\n",
       "</div>"
      ],
      "text/plain": [
       "     Location  Life Expectancy at Birth (years)\n",
       "0     Alabama                              75.2\n",
       "1      Alaska                              77.7\n",
       "2     Arizona                              78.8\n",
       "3    Arkansas                              75.7\n",
       "4  California                              80.9"
      ]
     },
     "execution_count": 26,
     "metadata": {},
     "output_type": "execute_result"
    }
   ],
   "source": [
    "life_expectancy = pd.read_csv('life expect_data.csv')\n",
    "life_expectancy.head()"
   ]
  },
  {
   "cell_type": "markdown",
   "metadata": {},
   "source": [
    "#### Making sure the data type for this data frame is float by using .dtypes function"
   ]
  },
  {
   "cell_type": "code",
   "execution_count": 27,
   "metadata": {},
   "outputs": [
    {
     "data": {
      "text/plain": [
       "Location                             object\n",
       "Life Expectancy at Birth (years)    float64\n",
       "dtype: object"
      ]
     },
     "execution_count": 27,
     "metadata": {},
     "output_type": "execute_result"
    }
   ],
   "source": [
    "life_expectancy.dtypes"
   ]
  },
  {
   "cell_type": "markdown",
   "metadata": {},
   "source": [
    "#### Creating a bar graph to make it easier to see which states have the highest and the lowest life expectancy per US state using .plot.bar function"
   ]
  },
  {
   "cell_type": "code",
   "execution_count": 28,
   "metadata": {},
   "outputs": [
    {
     "data": {
      "image/png": "[encoded data removed]",
      "text/plain": [
       "<Figure size 792x576 with 1 Axes>"
      ]
     },
     "metadata": {
      "needs_background": "light"
     },
     "output_type": "display_data"
    }
   ],
   "source": [
    "life_expectancy.plot.bar(x=\"Location\", y=\"Life Expectancy at Birth (years)\", rot=90, width=0.4, title=\"Life expectancy per US state\")\n",
    "plt.rcParams[\"figure.figsize\"] = (20,8)"
   ]
  },
  {
   "cell_type": "markdown",
   "metadata": {},
   "source": [
    "##### Based on the bar graph, it is a little challenging to determine which states has the highest and the lowest life expectancy rate in the US since many states have similar life expectancies."
   ]
  },
  {
   "cell_type": "markdown",
   "metadata": {},
   "source": [
    "#### Using .loc and .idmax functions, we can find out which states has the highest and lowest life expectancy rate"
   ]
  },
  {
   "cell_type": "code",
   "execution_count": 29,
   "metadata": {},
   "outputs": [
    {
     "data": {
      "text/plain": [
       "Location                            California\n",
       "Life Expectancy at Birth (years)          80.9\n",
       "Name: 4, dtype: object"
      ]
     },
     "execution_count": 29,
     "metadata": {},
     "output_type": "execute_result"
    }
   ],
   "source": [
    "life_expectancy.loc[life_expectancy['Life Expectancy at Birth (years)'].idxmax()]"
   ]
  },
  {
   "cell_type": "code",
   "execution_count": 30,
   "metadata": {},
   "outputs": [
    {
     "data": {
      "text/plain": [
       "Location                            Mississippi\n",
       "Life Expectancy at Birth (years)           74.4\n",
       "Name: 23, dtype: object"
      ]
     },
     "execution_count": 30,
     "metadata": {},
     "output_type": "execute_result"
    }
   ],
   "source": [
    "life_expectancy.loc[life_expectancy['Life Expectancy at Birth (years)'].idxmin()]"
   ]
  },
  {
   "cell_type": "markdown",
   "metadata": {},
   "source": [
    "##### We can now see that California has the highest life expectancy rate of 80.9 years and Mississippi has the lowest life expectancy rate of 74.4 years."
   ]
  },
  {
   "cell_type": "markdown",
   "metadata": {},
   "source": [
    "#### Plotting histogram of life expectancies to see its frequency using .hist function"
   ]
  },
  {
   "cell_type": "code",
   "execution_count": 31,
   "metadata": {},
   "outputs": [
    {
     "data": {
      "image/png": "[encoded data removed]",
      "text/plain": [
       "<Figure size 1440x576 with 1 Axes>"
      ]
     },
     "metadata": {
      "needs_background": "light"
     },
     "output_type": "display_data"
    }
   ],
   "source": [
    "life_expectancy.plot.hist()\n",
    "plt.rcParams[\"figure.figsize\"] = (11,8)"
   ]
  },
  {
   "cell_type": "markdown",
   "metadata": {},
   "source": [
    "##### Many states seems to have a life expectancy rate of around 78-79 years"
   ]
  },
  {
   "cell_type": "markdown",
   "metadata": {},
   "source": [
    "#### Using .aggregate function to see basic statistics (mean, median, min, max, and standard deviation) for 'Life Expectancy at Birth (years)' column"
   ]
  },
  {
   "cell_type": "code",
   "execution_count": 32,
   "metadata": {},
   "outputs": [
    {
     "data": {
      "text/html": [
       "<div>\n",
       "<style scoped>\n",
       "    .dataframe tbody tr th:only-of-type {\n",
       "        vertical-align: middle;\n",
       "    }\n",
       "\n",
       "    .dataframe tbody tr th {\n",
       "        vertical-align: top;\n",
       "    }\n",
       "\n",
       "    .dataframe thead th {\n",
       "        text-align: right;\n",
       "    }\n",
       "</style>\n",
       "<table border=\"1\" class=\"dataframe\">\n",
       "  <thead>\n",
       "    <tr style=\"text-align: right;\">\n",
       "      <th></th>\n",
       "      <th>Life Expectancy at Birth (years)</th>\n",
       "    </tr>\n",
       "  </thead>\n",
       "  <tbody>\n",
       "    <tr>\n",
       "      <th>mean</th>\n",
       "      <td>78.268000</td>\n",
       "    </tr>\n",
       "    <tr>\n",
       "      <th>median</th>\n",
       "      <td>78.450000</td>\n",
       "    </tr>\n",
       "    <tr>\n",
       "      <th>min</th>\n",
       "      <td>74.400000</td>\n",
       "    </tr>\n",
       "    <tr>\n",
       "      <th>max</th>\n",
       "      <td>80.900000</td>\n",
       "    </tr>\n",
       "    <tr>\n",
       "      <th>std</th>\n",
       "      <td>1.704549</td>\n",
       "    </tr>\n",
       "  </tbody>\n",
       "</table>\n",
       "</div>"
      ],
      "text/plain": [
       "        Life Expectancy at Birth (years)\n",
       "mean                           78.268000\n",
       "median                         78.450000\n",
       "min                            74.400000\n",
       "max                            80.900000\n",
       "std                             1.704549"
      ]
     },
     "execution_count": 32,
     "metadata": {},
     "output_type": "execute_result"
    }
   ],
   "source": [
    "life_expectancy[['Life Expectancy at Birth (years)' ]].aggregate(['mean', 'median', 'min', 'max', 'std'])"
   ]
  },
  {
   "cell_type": "markdown",
   "metadata": {},
   "source": [
    "#### Merging insured_rate and life_expectancy data frames using pd.merge function"
   ]
  },
  {
   "cell_type": "code",
   "execution_count": 34,
   "metadata": {},
   "outputs": [
    {
     "data": {
      "text/html": [
       "<div>\n",
       "<style scoped>\n",
       "    .dataframe tbody tr th:only-of-type {\n",
       "        vertical-align: middle;\n",
       "    }\n",
       "\n",
       "    .dataframe tbody tr th {\n",
       "        vertical-align: top;\n",
       "    }\n",
       "\n",
       "    .dataframe thead th {\n",
       "        text-align: right;\n",
       "    }\n",
       "</style>\n",
       "<table border=\"1\" class=\"dataframe\">\n",
       "  <thead>\n",
       "    <tr style=\"text-align: right;\">\n",
       "      <th></th>\n",
       "      <th>Location</th>\n",
       "      <th>Employer</th>\n",
       "      <th>Non-Group</th>\n",
       "      <th>Medicaid</th>\n",
       "      <th>Medicare</th>\n",
       "      <th>Military</th>\n",
       "      <th>Uninsured</th>\n",
       "      <th>Life Expectancy at Birth (years)</th>\n",
       "    </tr>\n",
       "  </thead>\n",
       "  <tbody>\n",
       "    <tr>\n",
       "      <th>0</th>\n",
       "      <td>Alabama</td>\n",
       "      <td>0.488</td>\n",
       "      <td>0.028</td>\n",
       "      <td>0.185</td>\n",
       "      <td>0.174</td>\n",
       "      <td>NaN</td>\n",
       "      <td>0.089</td>\n",
       "      <td>75.2</td>\n",
       "    </tr>\n",
       "    <tr>\n",
       "      <th>1</th>\n",
       "      <td>Alaska</td>\n",
       "      <td>0.399</td>\n",
       "      <td>0.031</td>\n",
       "      <td>0.220</td>\n",
       "      <td>0.128</td>\n",
       "      <td>0.096</td>\n",
       "      <td>0.126</td>\n",
       "      <td>77.7</td>\n",
       "    </tr>\n",
       "    <tr>\n",
       "      <th>2</th>\n",
       "      <td>Arizona</td>\n",
       "      <td>0.449</td>\n",
       "      <td>0.041</td>\n",
       "      <td>0.205</td>\n",
       "      <td>0.168</td>\n",
       "      <td>0.029</td>\n",
       "      <td>0.108</td>\n",
       "      <td>78.8</td>\n",
       "    </tr>\n",
       "    <tr>\n",
       "      <th>3</th>\n",
       "      <td>Arkansas</td>\n",
       "      <td>0.408</td>\n",
       "      <td>0.078</td>\n",
       "      <td>0.231</td>\n",
       "      <td>0.180</td>\n",
       "      <td>0.018</td>\n",
       "      <td>0.085</td>\n",
       "      <td>75.7</td>\n",
       "    </tr>\n",
       "    <tr>\n",
       "      <th>4</th>\n",
       "      <td>California</td>\n",
       "      <td>0.485</td>\n",
       "      <td>0.065</td>\n",
       "      <td>0.234</td>\n",
       "      <td>0.125</td>\n",
       "      <td>0.018</td>\n",
       "      <td>0.073</td>\n",
       "      <td>80.9</td>\n",
       "    </tr>\n",
       "  </tbody>\n",
       "</table>\n",
       "</div>"
      ],
      "text/plain": [
       "     Location  Employer  Non-Group  Medicaid  Medicare  Military  Uninsured  \\\n",
       "0     Alabama     0.488      0.028     0.185     0.174       NaN      0.089   \n",
       "1      Alaska     0.399      0.031     0.220     0.128     0.096      0.126   \n",
       "2     Arizona     0.449      0.041     0.205     0.168     0.029      0.108   \n",
       "3    Arkansas     0.408      0.078     0.231     0.180     0.018      0.085   \n",
       "4  California     0.485      0.065     0.234     0.125     0.018      0.073   \n",
       "\n",
       "   Life Expectancy at Birth (years)  \n",
       "0                              75.2  \n",
       "1                              77.7  \n",
       "2                              78.8  \n",
       "3                              75.7  \n",
       "4                              80.9  "
      ]
     },
     "execution_count": 34,
     "metadata": {},
     "output_type": "execute_result"
    }
   ],
   "source": [
    "life_insured = pd.merge(insure_rate, life_expectancy,\n",
    "                   on='Location', \n",
    "                   how='left')\n",
    "\n",
    "life_insured.head() #to see if the two data frames has merged properly"
   ]
  },
  {
   "cell_type": "markdown",
   "metadata": {},
   "source": [
    "#### Merging life_insured and new_healthcost data frames using pd.merge function"
   ]
  },
  {
   "cell_type": "code",
   "execution_count": 43,
   "metadata": {},
   "outputs": [
    {
     "data": {
      "text/html": [
       "<div>\n",
       "<style scoped>\n",
       "    .dataframe tbody tr th:only-of-type {\n",
       "        vertical-align: middle;\n",
       "    }\n",
       "\n",
       "    .dataframe tbody tr th {\n",
       "        vertical-align: top;\n",
       "    }\n",
       "\n",
       "    .dataframe thead th {\n",
       "        text-align: right;\n",
       "    }\n",
       "</style>\n",
       "<table border=\"1\" class=\"dataframe\">\n",
       "  <thead>\n",
       "    <tr style=\"text-align: right;\">\n",
       "      <th></th>\n",
       "      <th>Location</th>\n",
       "      <th>Employer</th>\n",
       "      <th>Non-Group</th>\n",
       "      <th>Medicaid</th>\n",
       "      <th>Medicare</th>\n",
       "      <th>Military</th>\n",
       "      <th>Uninsured</th>\n",
       "      <th>Life Expectancy at Birth (years)</th>\n",
       "      <th>spentPerCapita</th>\n",
       "    </tr>\n",
       "  </thead>\n",
       "  <tbody>\n",
       "    <tr>\n",
       "      <th>0</th>\n",
       "      <td>Alabama</td>\n",
       "      <td>0.488</td>\n",
       "      <td>0.028</td>\n",
       "      <td>0.185</td>\n",
       "      <td>0.174</td>\n",
       "      <td>NaN</td>\n",
       "      <td>0.089</td>\n",
       "      <td>75.2</td>\n",
       "      <td>6452.0</td>\n",
       "    </tr>\n",
       "    <tr>\n",
       "      <th>1</th>\n",
       "      <td>Alaska</td>\n",
       "      <td>0.399</td>\n",
       "      <td>0.031</td>\n",
       "      <td>0.220</td>\n",
       "      <td>0.128</td>\n",
       "      <td>0.096</td>\n",
       "      <td>0.126</td>\n",
       "      <td>77.7</td>\n",
       "      <td>7408.0</td>\n",
       "    </tr>\n",
       "    <tr>\n",
       "      <th>2</th>\n",
       "      <td>Arizona</td>\n",
       "      <td>0.449</td>\n",
       "      <td>0.041</td>\n",
       "      <td>0.205</td>\n",
       "      <td>0.168</td>\n",
       "      <td>0.029</td>\n",
       "      <td>0.108</td>\n",
       "      <td>78.8</td>\n",
       "      <td>7549.0</td>\n",
       "    </tr>\n",
       "    <tr>\n",
       "      <th>3</th>\n",
       "      <td>Arkansas</td>\n",
       "      <td>0.408</td>\n",
       "      <td>0.078</td>\n",
       "      <td>0.231</td>\n",
       "      <td>0.180</td>\n",
       "      <td>0.018</td>\n",
       "      <td>0.085</td>\n",
       "      <td>75.7</td>\n",
       "      <td>6804.0</td>\n",
       "    </tr>\n",
       "    <tr>\n",
       "      <th>4</th>\n",
       "      <td>California</td>\n",
       "      <td>0.485</td>\n",
       "      <td>0.065</td>\n",
       "      <td>0.234</td>\n",
       "      <td>0.125</td>\n",
       "      <td>0.018</td>\n",
       "      <td>0.073</td>\n",
       "      <td>80.9</td>\n",
       "      <td>9859.0</td>\n",
       "    </tr>\n",
       "  </tbody>\n",
       "</table>\n",
       "</div>"
      ],
      "text/plain": [
       "     Location  Employer  Non-Group  Medicaid  Medicare  Military  Uninsured  \\\n",
       "0     Alabama     0.488      0.028     0.185     0.174       NaN      0.089   \n",
       "1      Alaska     0.399      0.031     0.220     0.128     0.096      0.126   \n",
       "2     Arizona     0.449      0.041     0.205     0.168     0.029      0.108   \n",
       "3    Arkansas     0.408      0.078     0.231     0.180     0.018      0.085   \n",
       "4  California     0.485      0.065     0.234     0.125     0.018      0.073   \n",
       "\n",
       "   Life Expectancy at Birth (years)  spentPerCapita  \n",
       "0                              75.2          6452.0  \n",
       "1                              77.7          7408.0  \n",
       "2                              78.8          7549.0  \n",
       "3                              75.7          6804.0  \n",
       "4                              80.9          9859.0  "
      ]
     },
     "execution_count": 43,
     "metadata": {},
     "output_type": "execute_result"
    }
   ],
   "source": [
    "final_df = pd.merge(life_insured, new_healthcost, \n",
    "                   on='Location', \n",
    "                   how='left')\n",
    "\n",
    "final_df.head() #to see if all data frames has merged properly"
   ]
  },
  {
   "cell_type": "markdown",
   "metadata": {},
   "source": [
    "#### Using .aggregate function to see basic statistics (mean, median, min, max, and standard deviation) for the appropriate columns for this project"
   ]
  },
  {
   "cell_type": "code",
   "execution_count": 44,
   "metadata": {},
   "outputs": [
    {
     "data": {
      "text/html": [
       "<div>\n",
       "<style scoped>\n",
       "    .dataframe tbody tr th:only-of-type {\n",
       "        vertical-align: middle;\n",
       "    }\n",
       "\n",
       "    .dataframe tbody tr th {\n",
       "        vertical-align: top;\n",
       "    }\n",
       "\n",
       "    .dataframe thead th {\n",
       "        text-align: right;\n",
       "    }\n",
       "</style>\n",
       "<table border=\"1\" class=\"dataframe\">\n",
       "  <thead>\n",
       "    <tr style=\"text-align: right;\">\n",
       "      <th></th>\n",
       "      <th>Uninsured</th>\n",
       "      <th>Life Expectancy at Birth (years)</th>\n",
       "      <th>spentPerCapita</th>\n",
       "    </tr>\n",
       "  </thead>\n",
       "  <tbody>\n",
       "    <tr>\n",
       "      <th>mean</th>\n",
       "      <td>0.078660</td>\n",
       "      <td>78.268000</td>\n",
       "      <td>8221.895833</td>\n",
       "    </tr>\n",
       "    <tr>\n",
       "      <th>min</th>\n",
       "      <td>0.024000</td>\n",
       "      <td>74.400000</td>\n",
       "      <td>5982.000000</td>\n",
       "    </tr>\n",
       "    <tr>\n",
       "      <th>max</th>\n",
       "      <td>0.175000</td>\n",
       "      <td>80.900000</td>\n",
       "      <td>10559.000000</td>\n",
       "    </tr>\n",
       "    <tr>\n",
       "      <th>std</th>\n",
       "      <td>0.033671</td>\n",
       "      <td>1.704549</td>\n",
       "      <td>1099.074238</td>\n",
       "    </tr>\n",
       "  </tbody>\n",
       "</table>\n",
       "</div>"
      ],
      "text/plain": [
       "      Uninsured  Life Expectancy at Birth (years)  spentPerCapita\n",
       "mean   0.078660                         78.268000     8221.895833\n",
       "min    0.024000                         74.400000     5982.000000\n",
       "max    0.175000                         80.900000    10559.000000\n",
       "std    0.033671                          1.704549     1099.074238"
      ]
     },
     "execution_count": 44,
     "metadata": {},
     "output_type": "execute_result"
    }
   ],
   "source": [
    "final_df[['Uninsured', 'Life Expectancy at Birth (years)','spentPerCapita']].aggregate(['mean', 'min', 'max', 'std'])"
   ]
  },
  {
   "cell_type": "markdown",
   "metadata": {},
   "source": [
    "#### Using sns.lmplot function to observe any relationship between uninsured rate and healthcare spending cost per capita per US state"
   ]
  },
  {
   "cell_type": "code",
   "execution_count": 45,
   "metadata": {},
   "outputs": [
    {
     "data": {
      "text/plain": [
       "<seaborn.axisgrid.FacetGrid at 0x7f625e5e6860>"
      ]
     },
     "execution_count": 45,
     "metadata": {},
     "output_type": "execute_result"
    },
    {
     "data": {
      "image/png": "[encoded data removed]",
      "text/plain": [
       "<Figure size 360x360 with 1 Axes>"
      ]
     },
     "metadata": {
      "needs_background": "light"
     },
     "output_type": "display_data"
    }
   ],
   "source": [
    "sns.lmplot(x='spentPerCapita', y='Uninsured', data=final_df)"
   ]
  },
  {
   "cell_type": "markdown",
   "metadata": {},
   "source": [
    "##### There seems to be no conceivable relationship between uninsured rate and healthcare spending cost per capita per US state."
   ]
  },
  {
   "cell_type": "markdown",
   "metadata": {},
   "source": [
    "#### Using sns.lmplot function to observe any relationship between uninsured rate and life expectancy per US state"
   ]
  },
  {
   "cell_type": "code",
   "execution_count": 46,
   "metadata": {},
   "outputs": [
    {
     "data": {
      "text/plain": [
       "<seaborn.axisgrid.FacetGrid at 0x7f625e5e1d30>"
      ]
     },
     "execution_count": 46,
     "metadata": {},
     "output_type": "execute_result"
    },
    {
     "data": {
      "image/png": "[encoded data removed]",
      "text/plain": [
       "<Figure size 360x360 with 1 Axes>"
      ]
     },
     "metadata": {
      "needs_background": "light"
     },
     "output_type": "display_data"
    }
   ],
   "source": [
    "sns.lmplot(x='Life Expectancy at Birth (years)', y='Uninsured', data=final_df)"
   ]
  },
  {
   "cell_type": "markdown",
   "metadata": {},
   "source": [
    "##### There seems very weak, negative correlation between uninsured rate and life expectancy rate per US state."
   ]
  },
  {
   "cell_type": "markdown",
   "metadata": {},
   "source": [
    "#### Using sns.lmplot function to observe any relationship between healthcare spending cost per capita and life expectancy per US state"
   ]
  },
  {
   "cell_type": "code",
   "execution_count": 47,
   "metadata": {},
   "outputs": [
    {
     "data": {
      "text/plain": [
       "<seaborn.axisgrid.FacetGrid at 0x7f625c108dd8>"
      ]
     },
     "execution_count": 47,
     "metadata": {},
     "output_type": "execute_result"
    },
    {
     "data": {
      "image/png": "[encoded data removed]",
      "text/plain": [
       "<Figure size 360x360 with 1 Axes>"
      ]
     },
     "metadata": {
      "needs_background": "light"
     },
     "output_type": "display_data"
    }
   ],
   "source": [
    "sns.lmplot(x='Life Expectancy at Birth (years)', y='spentPerCapita', data=final_df)"
   ]
  },
  {
   "cell_type": "markdown",
   "metadata": {},
   "source": [
    "##### There seems very weak, positive correlation between healthcare spending cost per capita and life expectancy per US state."
   ]
  },
  {
   "cell_type": "markdown",
   "metadata": {},
   "source": [
    "## Final observation for interested variables: \n",
    "##### There seems to be no observable relationship between uninsured rate and healthcare spending cost per capita per US state but there seems to be a weak, negative correlation between uninsured rate and life expectancy rate per US state and a weak, positive correlation between healthcare spending cost per capita and life expectancy per US state.\n",
    "\n",
    "##### States with higher life expectancy rate seem to have lower uninsured population rate. This would mean that states with higher life expectancy rate generally seem to be able to afford some type of health insurance.\n",
    "\n",
    "##### States with higher healthcare spending per capita seem to have higher life expectancy. This would mean that states with higher life expectancy seem to have more access to better health care which could be more expensive than states that have lower life expectancy."
   ]
  },
  {
   "cell_type": "markdown",
   "metadata": {},
   "source": [
    "*** "
   ]
  },
  {
   "cell_type": "markdown",
   "metadata": {},
   "source": [
    "### Observations for other variables\n",
    "#### Although the focus of this project was on relationships between uninsured rate per state, the average cost of healthcare per capita per state, and average life expectancy of the population of each state in the US, it would be interesting to see if there are any relationships between other variables in the data frame."
   ]
  },
  {
   "cell_type": "markdown",
   "metadata": {},
   "source": [
    "#### Using sns.pairplot function to output a pair plot of all variables in the data frame"
   ]
  },
  {
   "cell_type": "code",
   "execution_count": 48,
   "metadata": {},
   "outputs": [
    {
     "data": {
      "text/plain": [
       "<seaborn.axisgrid.PairGrid at 0x7f629c421198>"
      ]
     },
     "execution_count": 48,
     "metadata": {},
     "output_type": "execute_result"
    },
    {
     "data": {
      "image/png": "[encoded data removed]",
      "text/plain": [
       "<Figure size 1440x1440 with 72 Axes>"
      ]
     },
     "metadata": {
      "needs_background": "light"
     },
     "output_type": "display_data"
    }
   ],
   "source": [
    "sns.pairplot(final_df)"
   ]
  },
  {
   "cell_type": "markdown",
   "metadata": {},
   "source": [
    "##### There seems to be a clear negative correlation between Employer and Medicaid "
   ]
  },
  {
   "cell_type": "markdown",
   "metadata": {},
   "source": [
    "#### Using sns.lmplot to get a better sense of the relationship between Medicaid and Employer variables"
   ]
  },
  {
   "cell_type": "code",
   "execution_count": 49,
   "metadata": {},
   "outputs": [
    {
     "data": {
      "text/plain": [
       "<seaborn.axisgrid.FacetGrid at 0x7f6255ea8860>"
      ]
     },
     "execution_count": 49,
     "metadata": {},
     "output_type": "execute_result"
    },
    {
     "data": {
      "image/png": "[encoded data removed]",
      "text/plain": [
       "<Figure size 360x360 with 1 Axes>"
      ]
     },
     "metadata": {
      "needs_background": "light"
     },
     "output_type": "display_data"
    }
   ],
   "source": [
    "sns.lmplot(x='Medicaid', y='Employer', data=life_insured)"
   ]
  },
  {
   "cell_type": "markdown",
   "metadata": {},
   "source": [
    "##### There seems to be negative correlation between Employer and Medicaid insured population. The states with higher employment rate have low medicaid insurace rate and vice versa."
   ]
  },
  {
   "cell_type": "code",
   "execution_count": null,
   "metadata": {},
   "outputs": [],
   "source": [
    "a=input('''\n",
    "Are you ready to submit your work?\n",
    "1. Click the Save icon (or do Ctrl-S / Cmd-S)\n",
    "2. Type \"yes\" or \"no\" below\n",
    "3. Press Enter\n",
    "\n",
    "''')\n",
    "\n",
    "if a=='yes':\n",
    "    !git pull\n",
    "    !git add final.ipynb\n",
    "    !git commit -a -m \"Submitting the final project programming assignment\"\n",
    "    !git push\n",
    "else:\n",
    "    print('''\n",
    "    \n",
    "OK. We can wait.\n",
    "''')"
   ]
  },
  {
   "cell_type": "code",
   "execution_count": null,
   "metadata": {},
   "outputs": [],
   "source": []
  }
 ],
 "metadata": {
  "kernelspec": {
   "display_name": "Python 3",
   "language": "python",
   "name": "python3"
  },
  "language_info": {
   "codemirror_mode": {
    "name": "ipython",
    "version": 3
   },
   "file_extension": ".py",
   "mimetype": "text/x-python",
   "name": "python",
   "nbconvert_exporter": "python",
   "pygments_lexer": "ipython3",
   "version": "3.6.7"
  }
 },
 "nbformat": 4,
 "nbformat_minor": 4
}
